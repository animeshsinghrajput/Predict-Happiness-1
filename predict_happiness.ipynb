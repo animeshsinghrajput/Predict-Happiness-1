{
 "cells": [
  {
   "cell_type": "code",
   "execution_count": 2,
   "metadata": {
    "collapsed": true
   },
   "outputs": [],
   "source": [
    "import pandas as pd\n",
    "import nltk\n",
    "import numpy as np\n",
    "from wordcloud import WordCloud, STOPWORDS"
   ]
  },
  {
   "cell_type": "code",
   "execution_count": 3,
   "metadata": {
    "collapsed": true
   },
   "outputs": [],
   "source": [
    "df = pd.read_csv('train.csv')"
   ]
  },
  {
   "cell_type": "code",
   "execution_count": 8,
   "metadata": {},
   "outputs": [
    {
     "name": "stdout",
     "output_type": "stream",
     "text": [
      "(38932, 5)\n"
     ]
    },
    {
     "data": {
      "text/html": [
       "<div>\n",
       "<style>\n",
       "    .dataframe thead tr:only-child th {\n",
       "        text-align: right;\n",
       "    }\n",
       "\n",
       "    .dataframe thead th {\n",
       "        text-align: left;\n",
       "    }\n",
       "\n",
       "    .dataframe tbody tr th {\n",
       "        vertical-align: top;\n",
       "    }\n",
       "</style>\n",
       "<table border=\"1\" class=\"dataframe\">\n",
       "  <thead>\n",
       "    <tr style=\"text-align: right;\">\n",
       "      <th></th>\n",
       "      <th>User_ID</th>\n",
       "      <th>Description</th>\n",
       "      <th>Browser_Used</th>\n",
       "      <th>Device_Used</th>\n",
       "      <th>Is_Response</th>\n",
       "    </tr>\n",
       "  </thead>\n",
       "  <tbody>\n",
       "    <tr>\n",
       "      <th>0</th>\n",
       "      <td>id10326</td>\n",
       "      <td>The room was kind of clean but had a VERY stro...</td>\n",
       "      <td>Edge</td>\n",
       "      <td>Mobile</td>\n",
       "      <td>not happy</td>\n",
       "    </tr>\n",
       "    <tr>\n",
       "      <th>1</th>\n",
       "      <td>id10327</td>\n",
       "      <td>I stayed at the Crown Plaza April -- - April -...</td>\n",
       "      <td>Internet Explorer</td>\n",
       "      <td>Mobile</td>\n",
       "      <td>not happy</td>\n",
       "    </tr>\n",
       "    <tr>\n",
       "      <th>2</th>\n",
       "      <td>id10328</td>\n",
       "      <td>I booked this hotel through Hotwire at the low...</td>\n",
       "      <td>Mozilla</td>\n",
       "      <td>Tablet</td>\n",
       "      <td>not happy</td>\n",
       "    </tr>\n",
       "    <tr>\n",
       "      <th>3</th>\n",
       "      <td>id10329</td>\n",
       "      <td>Stayed here with husband and sons on the way t...</td>\n",
       "      <td>InternetExplorer</td>\n",
       "      <td>Desktop</td>\n",
       "      <td>happy</td>\n",
       "    </tr>\n",
       "    <tr>\n",
       "      <th>4</th>\n",
       "      <td>id10330</td>\n",
       "      <td>My girlfriends and I stayed here to celebrate ...</td>\n",
       "      <td>Edge</td>\n",
       "      <td>Tablet</td>\n",
       "      <td>not happy</td>\n",
       "    </tr>\n",
       "  </tbody>\n",
       "</table>\n",
       "</div>"
      ],
      "text/plain": [
       "   User_ID                                        Description  \\\n",
       "0  id10326  The room was kind of clean but had a VERY stro...   \n",
       "1  id10327  I stayed at the Crown Plaza April -- - April -...   \n",
       "2  id10328  I booked this hotel through Hotwire at the low...   \n",
       "3  id10329  Stayed here with husband and sons on the way t...   \n",
       "4  id10330  My girlfriends and I stayed here to celebrate ...   \n",
       "\n",
       "        Browser_Used Device_Used Is_Response  \n",
       "0               Edge      Mobile   not happy  \n",
       "1  Internet Explorer      Mobile   not happy  \n",
       "2            Mozilla      Tablet   not happy  \n",
       "3   InternetExplorer     Desktop       happy  \n",
       "4               Edge      Tablet   not happy  "
      ]
     },
     "execution_count": 8,
     "metadata": {},
     "output_type": "execute_result"
    }
   ],
   "source": [
    "print(df.shape)\n",
    "df.head()\n"
   ]
  },
  {
   "cell_type": "code",
   "execution_count": 15,
   "metadata": {},
   "outputs": [
    {
     "name": "stdout",
     "output_type": "stream",
     "text": [
      "2\n"
     ]
    },
    {
     "data": {
      "text/plain": [
       "happy        26521\n",
       "not happy    12411\n",
       "Name: Is_Response, dtype: int64"
      ]
     },
     "execution_count": 15,
     "metadata": {},
     "output_type": "execute_result"
    }
   ],
   "source": [
    "print(df['Is_Response'].nunique())\n",
    "mood_count = df['Is_Response'].value_counts()\n",
    "mood_count"
   ]
  },
  {
   "cell_type": "code",
   "execution_count": 10,
   "metadata": {},
   "outputs": [
    {
     "name": "stdout",
     "output_type": "stream",
     "text": [
      "Desktop    15026\n",
      "Mobile     14976\n",
      "Tablet      8930\n",
      "Name: Device_Used, dtype: int64\n",
      "Firefox              7367\n",
      "Edge                 7134\n",
      "Google Chrome        4659\n",
      "InternetExplorer     4588\n",
      "Mozilla Firefox      4328\n",
      "Mozilla              3092\n",
      "Chrome               2470\n",
      "IE                   2439\n",
      "Internet Explorer    2103\n",
      "Safari                390\n",
      "Opera                 362\n",
      "Name: Browser_Used, dtype: int64\n"
     ]
    }
   ],
   "source": [
    "print(df['Device_Used'].value_counts())\n",
    "print(df['Browser_Used'].value_counts())"
   ]
  },
  {
   "cell_type": "code",
   "execution_count": 16,
   "metadata": {},
   "outputs": [],
   "source": [
    "import matplotlib.pyplot as plt\n",
    "%matplotlib inline\n",
    "import seaborn as sns"
   ]
  },
  {
   "cell_type": "code",
   "execution_count": 18,
   "metadata": {},
   "outputs": [
    {
     "data": {
      "text/plain": [
       "<matplotlib.text.Text at 0x1e804956390>"
      ]
     },
     "execution_count": 18,
     "metadata": {},
     "output_type": "execute_result"
    },
    {
     "data": {
      "image/png": "[encoded data removed]",
      "text/plain": [
       "<matplotlib.figure.Figure at 0x1e804864128>"
      ]
     },
     "metadata": {},
     "output_type": "display_data"
    }
   ],
   "source": [
    "index = [1,2]\n",
    "plt.bar(index,mood_count)\n",
    "plt.xticks(index,['happy','not_happy'])\n",
    "plt.ylabel('Sentiment Count')"
   ]
  },
  {
   "cell_type": "code",
   "execution_count": 19,
   "metadata": {
    "collapsed": true
   },
   "outputs": [],
   "source": [
    "stops = set(STOPWORDS)"
   ]
  },
  {
   "cell_type": "markdown",
   "metadata": {},
   "source": [
    "## Negative response analysis"
   ]
  },
  {
   "cell_type": "code",
   "execution_count": 46,
   "metadata": {
    "collapsed": true
   },
   "outputs": [],
   "source": [
    "dummy_neg = df[df['Is_Response'] == 'not happy']"
   ]
  },
  {
   "cell_type": "code",
   "execution_count": 47,
   "metadata": {},
   "outputs": [],
   "source": [
    "words = ' '.join(dummy_neg['Description'])"
   ]
  },
  {
   "cell_type": "code",
   "execution_count": 48,
   "metadata": {},
   "outputs": [
    {
     "data": {
      "text/plain": [
       "12927374"
      ]
     },
     "execution_count": 48,
     "metadata": {},
     "output_type": "execute_result"
    }
   ],
   "source": [
    "b_words = len(words)\n",
    "b_words"
   ]
  },
  {
   "cell_type": "code",
   "execution_count": 49,
   "metadata": {
    "collapsed": true
   },
   "outputs": [],
   "source": [
    "words = ' '.join(word for word in words.split(' ') if word not in stops)"
   ]
  },
  {
   "cell_type": "code",
   "execution_count": 50,
   "metadata": {},
   "outputs": [
    {
     "data": {
      "text/plain": [
       "8843945"
      ]
     },
     "execution_count": 50,
     "metadata": {},
     "output_type": "execute_result"
    }
   ],
   "source": [
    "a_words = len(words)\n",
    "a_words"
   ]
  },
  {
   "cell_type": "code",
   "execution_count": 51,
   "metadata": {},
   "outputs": [
    {
     "name": "stdout",
     "output_type": "stream",
     "text": [
      "Ratio of words after and before removal of stopwords 0.6841254070625635\n"
     ]
    }
   ],
   "source": [
    "print(\"Ratio of words after and before removal of stopwords {}\".format(a_words/b_words))"
   ]
  },
  {
   "cell_type": "code",
   "execution_count": 32,
   "metadata": {
    "scrolled": true
   },
   "outputs": [
    {
     "data": {
      "text/plain": [
       "(-0.5, 2999.5, 2499.5, -0.5)"
      ]
     },
     "execution_count": 32,
     "metadata": {},
     "output_type": "execute_result"
    },
    {
     "data": {
      "image/png": "[encoded data removed]",
      "text/plain": [
       "<matplotlib.figure.Figure at 0x1e8048b26a0>"
      ]
     },
     "metadata": {},
     "output_type": "display_data"
    }
   ],
   "source": [
    "print(\"Negative Response WordClould\")\n",
    "wordcloud = WordCloud(stopwords = STOPWORDS, background_color = 'black',height = 2500, width = 3000).generate(words)\n",
    "plt.imshow(wordcloud)\n",
    "plt.axis('off')"
   ]
  },
  {
   "cell_type": "markdown",
   "metadata": {},
   "source": [
    "## Positive Response analysis"
   ]
  },
  {
   "cell_type": "code",
   "execution_count": 52,
   "metadata": {
    "collapsed": true
   },
   "outputs": [],
   "source": [
    "dummy_pos = df[df['Is_Response'] == 'happy']"
   ]
  },
  {
   "cell_type": "code",
   "execution_count": 53,
   "metadata": {
    "collapsed": true
   },
   "outputs": [],
   "source": [
    "words = ' '.join(dummy_pos['Description'])"
   ]
  },
  {
   "cell_type": "code",
   "execution_count": 54,
   "metadata": {},
   "outputs": [],
   "source": [
    "b_words = len(words)"
   ]
  },
  {
   "cell_type": "code",
   "execution_count": 55,
   "metadata": {
    "collapsed": true
   },
   "outputs": [],
   "source": [
    "words = ' '.join(word for word in words.split(' ') if word not in stops)"
   ]
  },
  {
   "cell_type": "code",
   "execution_count": 56,
   "metadata": {},
   "outputs": [],
   "source": [
    "a_words = len(words)"
   ]
  },
  {
   "cell_type": "code",
   "execution_count": 57,
   "metadata": {},
   "outputs": [
    {
     "name": "stdout",
     "output_type": "stream",
     "text": [
      "Ratio of words after and before removal of stopwords 0.7029443455412356\n"
     ]
    }
   ],
   "source": [
    "print(\"Ratio of words after and before removal of stopwords {}\".format(a_words/b_words))"
   ]
  },
  {
   "cell_type": "code",
   "execution_count": 58,
   "metadata": {},
   "outputs": [
    {
     "name": "stdout",
     "output_type": "stream",
     "text": [
      "Positive Response WordClould\n"
     ]
    },
    {
     "data": {
      "text/plain": [
       "(-0.5, 2999.5, 2499.5, -0.5)"
      ]
     },
     "execution_count": 58,
     "metadata": {},
     "output_type": "execute_result"
    },
    {
     "data": {
      "image/png": "[encoded data removed]",
      "text/plain": [
       "<matplotlib.figure.Figure at 0x1e8110b8080>"
      ]
     },
     "metadata": {},
     "output_type": "display_data"
    }
   ],
   "source": [
    "print(\"Positive Response WordClould\")\n",
    "wordcloud = WordCloud(stopwords = STOPWORDS, background_color = 'black',height = 2500, width = 3000).generate(words)\n",
    "plt.imshow(wordcloud)\n",
    "plt.axis('off')"
   ]
  },
  {
   "cell_type": "markdown",
   "metadata": {},
   "source": [
    "### Both wordclouds have few words in common like 'hotel, room, one, desk, front). So one approach could be removing these words to train the data"
   ]
  },
  {
   "cell_type": "code",
   "execution_count": 61,
   "metadata": {
    "collapsed": true
   },
   "outputs": [],
   "source": [
    "def draw_WordCloud(df,column,stops):\n",
    "    words = ' '.join(df[column])\n",
    "    b_words = len(words)\n",
    "    words = ' '.join(word for word in words.split(' ') if word not in stops)\n",
    "    a_words = len(words)\n",
    "    print(\"Ratio of words after and before removal of stopwords {}\".format(a_words/b_words))\n",
    "    wordcloud = WordCloud(stopwords = STOPWORDS, background_color = 'black',height = 2500, width = 3000).generate(words)\n",
    "    plt.imshow(wordcloud)\n",
    "    plt.axis('off')\n",
    "    return "
   ]
  },
  {
   "cell_type": "code",
   "execution_count": 62,
   "metadata": {
    "scrolled": true
   },
   "outputs": [
    {
     "name": "stdout",
     "output_type": "stream",
     "text": [
      "Ratio of words after and before removal of stopwords 0.6841254070625635\n"
     ]
    },
    {
     "data": {
      "image/png": "[encoded data removed]",
      "text/plain": [
       "<matplotlib.figure.Figure at 0x1e8048ba630>"
      ]
     },
     "metadata": {},
     "output_type": "display_data"
    }
   ],
   "source": [
    "draw_WordCloud(dummy_neg,'Description',stops)"
   ]
  },
  {
   "cell_type": "code",
   "execution_count": 63,
   "metadata": {
    "collapsed": true
   },
   "outputs": [],
   "source": [
    "df['sentiment']  = df['Is_Response'].apply(\n",
    "lambda x : 0 if x == 'not happy' else 1)"
   ]
  },
  {
   "cell_type": "code",
   "execution_count": 66,
   "metadata": {},
   "outputs": [
    {
     "data": {
      "text/plain": [
       "1    26521\n",
       "0    12411\n",
       "Name: sentiment, dtype: int64"
      ]
     },
     "execution_count": 66,
     "metadata": {},
     "output_type": "execute_result"
    }
   ],
   "source": [
    "df['sentiment'].value_counts()"
   ]
  },
  {
   "cell_type": "code",
   "execution_count": 67,
   "metadata": {
    "collapsed": true
   },
   "outputs": [],
   "source": [
    "from sklearn.feature_extraction.text import CountVectorizer"
   ]
  },
  {
   "cell_type": "code",
   "execution_count": 68,
   "metadata": {
    "collapsed": true
   },
   "outputs": [],
   "source": [
    "count_vec = CountVectorizer(analyzer = \"word\")"
   ]
  },
  {
   "cell_type": "code",
   "execution_count": 70,
   "metadata": {},
   "outputs": [],
   "source": [
    "inputDF = df['Description']\n",
    "outputDF = df['sentiment']"
   ]
  },
  {
   "cell_type": "code",
   "execution_count": 71,
   "metadata": {
    "collapsed": true
   },
   "outputs": [],
   "source": [
    "from sklearn.utils import shuffle\n",
    "from sklearn.model_selection import train_test_split"
   ]
  },
  {
   "cell_type": "code",
   "execution_count": 74,
   "metadata": {
    "collapsed": true
   },
   "outputs": [],
   "source": [
    "inputDF,outputDF = shuffle(inputDF,outputDF,random_state = 42)\n",
    "#inputDF.reset_index(drop = True,inplace = True)\n",
    "#outputDF.reset_index(drop=True,inplace = True)"
   ]
  },
  {
   "cell_type": "code",
   "execution_count": 77,
   "metadata": {},
   "outputs": [],
   "source": [
    "x_train,x_test,y_train,y_test = train_test_split(inputDF,outputDF,random_state=42)"
   ]
  },
  {
   "cell_type": "code",
   "execution_count": 83,
   "metadata": {
    "collapsed": true
   },
   "outputs": [],
   "source": [
    "from nltk.corpus import stopwords\n",
    "stops = set(stopwords.words('english'))\n",
    "stops.update(':',',','!','.','\" \"',\"' '\")"
   ]
  },
  {
   "cell_type": "code",
   "execution_count": 105,
   "metadata": {},
   "outputs": [],
   "source": [
    "count_vec_ngrams = CountVectorizer(analyzer = \"word\", ngram_range = (1,2))"
   ]
  },
  {
   "cell_type": "code",
   "execution_count": 106,
   "metadata": {},
   "outputs": [],
   "source": [
    "train_features = count_vec.fit_transform(x_train)\n",
    "train_features_grams = count_vec_ngrams.fit_transform(x_train)"
   ]
  },
  {
   "cell_type": "code",
   "execution_count": 107,
   "metadata": {
    "collapsed": true
   },
   "outputs": [],
   "source": [
    "test_features = count_vec.transform(x_test)\n",
    "test_features_grams = count_vec_ngrams.transform(x_test)"
   ]
  },
  {
   "cell_type": "code",
   "execution_count": 108,
   "metadata": {
    "collapsed": true
   },
   "outputs": [],
   "source": [
    "from sklearn.tree import DecisionTreeClassifier\n",
    "from sklearn.naive_bayes import MultinomialNB\n",
    "from sklearn.feature_extraction.text import TfidfVectorizer"
   ]
  },
  {
   "cell_type": "markdown",
   "metadata": {},
   "source": [
    "## Decision Tree"
   ]
  },
  {
   "cell_type": "code",
   "execution_count": 109,
   "metadata": {},
   "outputs": [
    {
     "name": "stdout",
     "output_type": "stream",
     "text": [
      "0.764512483304\n",
      "0.760710983253\n"
     ]
    }
   ],
   "source": [
    "clf = DecisionTreeClassifier()\n",
    "clf_grams = DecisionTreeClassifier()\n",
    "clf.fit(train_features,y_train)\n",
    "clf_grams.fit(train_features_grams,y_train)\n",
    "print(clf_grams.score(test_features_grams,y_test))\n",
    "print(clf.score(test_features,y_test))"
   ]
  },
  {
   "cell_type": "markdown",
   "metadata": {},
   "source": [
    "## MultinomialNB"
   ]
  },
  {
   "cell_type": "code",
   "execution_count": 110,
   "metadata": {},
   "outputs": [
    {
     "name": "stdout",
     "output_type": "stream",
     "text": [
      "0.871262714477\n"
     ]
    },
    {
     "data": {
      "text/plain": [
       "0.86509811979862328"
      ]
     },
     "execution_count": 110,
     "metadata": {},
     "output_type": "execute_result"
    }
   ],
   "source": [
    "clf = MultinomialNB()\n",
    "clf_grams = MultinomialNB()\n",
    "clf_grams.fit(train_features_grams,y_train)\n",
    "clf.fit(train_features,y_train)\n",
    "print(clf_grams.score(test_features_grams,y_test))\n",
    "clf.score(test_features,y_test)"
   ]
  },
  {
   "cell_type": "code",
   "execution_count": 111,
   "metadata": {
    "collapsed": true
   },
   "outputs": [],
   "source": [
    "TF = TfidfVectorizer()\n",
    "train_features = TF.fit_transform(x_train)\n",
    "test_features = TF.transform(x_test)\n"
   ]
  },
  {
   "cell_type": "code",
   "execution_count": 112,
   "metadata": {},
   "outputs": [
    {
     "data": {
      "text/plain": [
       "0.75084763176821123"
      ]
     },
     "execution_count": 112,
     "metadata": {},
     "output_type": "execute_result"
    }
   ],
   "source": [
    "clf = DecisionTreeClassifier()\n",
    "clf.fit(train_features,y_train)\n",
    "clf.score(test_features,y_test)"
   ]
  },
  {
   "cell_type": "code",
   "execution_count": 113,
   "metadata": {},
   "outputs": [
    {
     "data": {
      "text/plain": [
       "0.79379430802424744"
      ]
     },
     "execution_count": 113,
     "metadata": {},
     "output_type": "execute_result"
    }
   ],
   "source": [
    "clf = MultinomialNB()\n",
    "clf.fit(train_features,y_train)\n",
    "clf.score(test_features,y_test)"
   ]
  },
  {
   "cell_type": "markdown",
   "metadata": {},
   "source": [
    "# MultinomialNB is proved to be better than Decision Tree!\n",
    "### TFidVectorizer is not performing better!"
   ]
  },
  {
   "cell_type": "code",
   "execution_count": 129,
   "metadata": {
    "collapsed": true
   },
   "outputs": [],
   "source": [
    "from collections import Counter\n",
    "from nltk import word_tokenize"
   ]
  },
  {
   "cell_type": "code",
   "execution_count": 123,
   "metadata": {},
   "outputs": [],
   "source": [
    "words = ' '.join(df['Description'])"
   ]
  },
  {
   "cell_type": "code",
   "execution_count": 124,
   "metadata": {},
   "outputs": [
    {
     "data": {
      "text/plain": [
       "33764807"
      ]
     },
     "execution_count": 124,
     "metadata": {},
     "output_type": "execute_result"
    }
   ],
   "source": [
    "len(words)"
   ]
  },
  {
   "cell_type": "code",
   "execution_count": 125,
   "metadata": {
    "collapsed": true
   },
   "outputs": [],
   "source": [
    "words = ' '.join(word for word in words.split(' ') if word not in stops)"
   ]
  },
  {
   "cell_type": "code",
   "execution_count": 126,
   "metadata": {},
   "outputs": [
    {
     "data": {
      "text/plain": [
       "23987643"
      ]
     },
     "execution_count": 126,
     "metadata": {},
     "output_type": "execute_result"
    }
   ],
   "source": [
    "len(words)"
   ]
  },
  {
   "cell_type": "code",
   "execution_count": 130,
   "metadata": {},
   "outputs": [],
   "source": [
    "list_words = word_tokenize(words)"
   ]
  },
  {
   "cell_type": "code",
   "execution_count": 138,
   "metadata": {},
   "outputs": [
    {
     "data": {
      "text/plain": [
       "'ess. The Westin wonderfully restored grande dame hotel. The beds linens excellent. Have pay internet'"
      ]
     },
     "execution_count": 138,
     "metadata": {},
     "output_type": "execute_result"
    }
   ],
   "source": [
    "words[-100:]"
   ]
  },
  {
   "cell_type": "code",
   "execution_count": 137,
   "metadata": {
    "scrolled": true
   },
   "outputs": [
    {
     "data": {
      "text/plain": [
       "['busy',\n",
       " 'rudely',\n",
       " 'told',\n",
       " 'us',\n",
       " 'would',\n",
       " 'go',\n",
       " 'get',\n",
       " 'mumbling',\n",
       " 'us',\n",
       " 'left-very',\n",
       " 'bad',\n",
       " 'customer',\n",
       " 'service-given',\n",
       " 'mistake',\n",
       " '.',\n",
       " 'I',\n",
       " 'would',\n",
       " 'stay',\n",
       " 'again',\n",
       " '.',\n",
       " 'The',\n",
       " 'experience',\n",
       " 'ok.',\n",
       " 'We',\n",
       " 'paid',\n",
       " 'extra',\n",
       " 'view',\n",
       " 'pool',\n",
       " ',',\n",
       " 'got',\n",
       " 'view',\n",
       " 'palm',\n",
       " 'tree',\n",
       " 'blocking',\n",
       " 'pool',\n",
       " '.',\n",
       " 'oh',\n",
       " 'well',\n",
       " '...',\n",
       " 'better',\n",
       " 'parking',\n",
       " 'lot',\n",
       " 'dumpster',\n",
       " '.',\n",
       " 'The',\n",
       " 'memorable',\n",
       " 'part',\n",
       " 'stay',\n",
       " 'vent',\n",
       " 'shower',\n",
       " 'portal',\n",
       " 'adjacent',\n",
       " 'rooms',\n",
       " '.',\n",
       " 'We',\n",
       " 'heard',\n",
       " 'conversations',\n",
       " 'neighbors',\n",
       " 'odor',\n",
       " 'whatever',\n",
       " 'weed',\n",
       " 'smoking',\n",
       " 'next',\n",
       " 'door',\n",
       " 'started',\n",
       " 'fill',\n",
       " 'room',\n",
       " '.',\n",
       " 'At',\n",
       " 'end',\n",
       " 'day',\n",
       " ',',\n",
       " 'sure',\n",
       " 'staying',\n",
       " 'next',\n",
       " 'cheech',\n",
       " 'chong',\n",
       " '.',\n",
       " 'Welcome',\n",
       " 'California',\n",
       " ',',\n",
       " 'I',\n",
       " 'guess',\n",
       " '.',\n",
       " 'The',\n",
       " 'Westin',\n",
       " 'wonderfully',\n",
       " 'restored',\n",
       " 'grande',\n",
       " 'dame',\n",
       " 'hotel',\n",
       " '.',\n",
       " 'The',\n",
       " 'beds',\n",
       " 'linens',\n",
       " 'excellent',\n",
       " '.',\n",
       " 'Have',\n",
       " 'pay',\n",
       " 'internet']"
      ]
     },
     "execution_count": 137,
     "metadata": {},
     "output_type": "execute_result"
    }
   ],
   "source": [
    "list_words[-100:]"
   ]
  },
  {
   "cell_type": "code",
   "execution_count": 139,
   "metadata": {
    "collapsed": true
   },
   "outputs": [],
   "source": [
    "counts = Counter(list_words)"
   ]
  },
  {
   "cell_type": "code",
   "execution_count": 140,
   "metadata": {},
   "outputs": [
    {
     "data": {
      "text/plain": [
       "Counter({'The': 78953,\n",
       "         'room': 59022,\n",
       "         'kind': 1714,\n",
       "         'clean': 15342,\n",
       "         'VERY': 681,\n",
       "         'strong': 264,\n",
       "         'smell': 1113,\n",
       "         'dogs': 260,\n",
       "         '.': 351124,\n",
       "         'Generally': 54,\n",
       "         'average': 1424,\n",
       "         'ok': 1212,\n",
       "         'overnight': 584,\n",
       "         'stay': 25980,\n",
       "         'you': 4759,\n",
       "         \"'re\": 2577,\n",
       "         'fussy': 67,\n",
       "         'Would': 1536,\n",
       "         'consider': 645,\n",
       "         'staying': 4466,\n",
       "         'price': 6132,\n",
       "         'right': 6551,\n",
       "         'Breakfast': 1731,\n",
       "         'free': 7991,\n",
       "         'better': 4734,\n",
       "         'nothing': 2517,\n",
       "         'I': 108745,\n",
       "         'stayed': 14726,\n",
       "         'Crown': 69,\n",
       "         'Plaza': 721,\n",
       "         'April': 311,\n",
       "         '--': 53615,\n",
       "         '-': 52341,\n",
       "         ',': 231523,\n",
       "         'staff': 22406,\n",
       "         'friendly': 10296,\n",
       "         'attentive': 830,\n",
       "         'elevators': 1601,\n",
       "         'tiny': 1239,\n",
       "         '(': 29083,\n",
       "         'about': 595,\n",
       "         \"'\": 2148,\n",
       "         ')': 30224,\n",
       "         'food': 5544,\n",
       "         'restaurant': 5886,\n",
       "         'delicious': 823,\n",
       "         'priced': 921,\n",
       "         'little': 7125,\n",
       "         'high': 2447,\n",
       "         'side': 2882,\n",
       "         'Of': 302,\n",
       "         'course': 1049,\n",
       "         'Washington': 597,\n",
       "         'DC': 1015,\n",
       "         'There': 9321,\n",
       "         'pool': 5520,\n",
       "         'children': 986,\n",
       "         'do': 5156,\n",
       "         'My': 7485,\n",
       "         'fifth': 119,\n",
       "         'floor': 8730,\n",
       "         'two': 7867,\n",
       "         'comfortable': 9821,\n",
       "         'beds': 5164,\n",
       "         'plenty': 1830,\n",
       "         'space': 2223,\n",
       "         'one': 16993,\n",
       "         'person': 1948,\n",
       "         'TV': 2911,\n",
       "         'small': 9636,\n",
       "         'todays': 9,\n",
       "         'standards': 729,\n",
       "         'limited': 691,\n",
       "         'number': 1177,\n",
       "         'channels': 523,\n",
       "         'bit': 4939,\n",
       "         'mold': 313,\n",
       "         'bathtub': 442,\n",
       "         'area': 10312,\n",
       "         'could': 12275,\n",
       "         'removed': 303,\n",
       "         'bleach': 40,\n",
       "         'It': 15242,\n",
       "         'appeared': 494,\n",
       "         'carpets': 351,\n",
       "         'vacummed': 2,\n",
       "         'every': 4307,\n",
       "         'day': 9715,\n",
       "         'reported': 230,\n",
       "         'light': 1655,\n",
       "         'bulb': 55,\n",
       "         'burned': 58,\n",
       "         'out': 2714,\n",
       "         'never': 4577,\n",
       "         'replaced': 370,\n",
       "         'Ice': 69,\n",
       "         'machines': 520,\n",
       "         'odd': 430,\n",
       "         'numbered': 28,\n",
       "         'floors': 1203,\n",
       "         'work': 3409,\n",
       "         'encountered': 570,\n",
       "         'elevator': 2271,\n",
       "         'evening': 2464,\n",
       "         'mentioned': 871,\n",
       "         'ice': 887,\n",
       "         'machine': 815,\n",
       "         'them': 1532,\n",
       "         'Severel': 1,\n",
       "         'hours': 2194,\n",
       "         'later': 1536,\n",
       "         'maid': 505,\n",
       "         'door': 5798,\n",
       "         'mints': 16,\n",
       "         \"'m\": 2495,\n",
       "         'sure': 3406,\n",
       "         'knew': 869,\n",
       "         'in': 3744,\n",
       "         'That': 1480,\n",
       "         'unnerving': 10,\n",
       "         '!': 38512,\n",
       "         'would': 22026,\n",
       "         'business': 4764,\n",
       "         'come': 2831,\n",
       "         'vacation': 897,\n",
       "         'booked': 4463,\n",
       "         'hotel': 65861,\n",
       "         'Hotwire': 356,\n",
       "         'lowest': 101,\n",
       "         'find': 4319,\n",
       "         'When': 4241,\n",
       "         'got': 7204,\n",
       "         'front': 9236,\n",
       "         'desk': 11075,\n",
       "         'manager': 2190,\n",
       "         'gave': 2187,\n",
       "         'us': 15284,\n",
       "         '``': 8907,\n",
       "         \"''\": 557488,\n",
       "         'smoking': 549,\n",
       "         'argued': 32,\n",
       "         'baby': 246,\n",
       "         'known': 277,\n",
       "         'hear': 2155,\n",
       "         'anything': 2204,\n",
       "         'told': 4443,\n",
       "         'books': 115,\n",
       "         'cheapest': 178,\n",
       "         'rooms': 18262,\n",
       "         'available': 3022,\n",
       "         'So': 2374,\n",
       "         'get': 13163,\n",
       "         'go': 7110,\n",
       "         'unhappy': 82,\n",
       "         'After': 2053,\n",
       "         'great': 22230,\n",
       "         'deal': 2248,\n",
       "         'persuasion': 3,\n",
       "         'discussion': 35,\n",
       "         'nonsmoking': 37,\n",
       "         'Thereafter': 2,\n",
       "         'minimal': 201,\n",
       "         'amenities': 1892,\n",
       "         'Besides': 114,\n",
       "         'location': 16869,\n",
       "         'near': 2834,\n",
       "         'Dupont': 237,\n",
       "         'Circle': 344,\n",
       "         'much': 6537,\n",
       "         'say': 3805,\n",
       "         'overpriced': 480,\n",
       "         'OK': 828,\n",
       "         'condition': 488,\n",
       "         'bathroom': 8345,\n",
       "         'tub': 1651,\n",
       "         'also': 9511,\n",
       "         'We': 33955,\n",
       "         'fridge': 1495,\n",
       "         'microwave': 1107,\n",
       "         'rent': 257,\n",
       "         'to': 886,\n",
       "         'keep': 1249,\n",
       "         'things': 2904,\n",
       "         'parking': 6462,\n",
       "         'costs': 423,\n",
       "         '$': 12193,\n",
       "         'per': 2362,\n",
       "         'best': 4629,\n",
       "         'drive': 1044,\n",
       "         'here': 2667,\n",
       "         'Also': 2432,\n",
       "         'breakfast': 12054,\n",
       "         'included': 1830,\n",
       "         'lobby': 7246,\n",
       "         'feels': 344,\n",
       "         'old': 4204,\n",
       "         'thing': 3119,\n",
       "         'coffee': 4678,\n",
       "         'decent': 1707,\n",
       "         'All': 2546,\n",
       "         'all': 2742,\n",
       "         'poor': 980,\n",
       "         'service': 13735,\n",
       "         'bathrooms': 1275,\n",
       "         'view': 6183,\n",
       "         'Some': 631,\n",
       "         'distance': 3539,\n",
       "         'metro': 601,\n",
       "         'either': 1641,\n",
       "         'McPherson': 13,\n",
       "         'station': 1659,\n",
       "         'Try': 195,\n",
       "         'look': 2351,\n",
       "         'Stayed': 1979,\n",
       "         'husband': 2687,\n",
       "         'sons': 78,\n",
       "         'way': 5054,\n",
       "         'Alaska': 37,\n",
       "         'Cruise': 30,\n",
       "         'loved': 2347,\n",
       "         'experience': 4435,\n",
       "         'Ask': 132,\n",
       "         'North': 479,\n",
       "         'tower': 453,\n",
       "         'facing': 735,\n",
       "         'north': 389,\n",
       "         'west': 352,\n",
       "         'views': 1673,\n",
       "         'stunning': 199,\n",
       "         'needle': 94,\n",
       "         'city': 5040,\n",
       "         'even': 7792,\n",
       "         'cruise': 400,\n",
       "         'ships': 39,\n",
       "         'ordered': 682,\n",
       "         'dinner': 2275,\n",
       "         'enjoy': 1350,\n",
       "         'perfect': 3487,\n",
       "         'Room': 2676,\n",
       "         'dinners': 95,\n",
       "         'too': 1775,\n",
       "         'You': 3328,\n",
       "         'spot': 831,\n",
       "         'walk': 7562,\n",
       "         'everywhere': 925,\n",
       "         'Almost': 74,\n",
       "         'forgot-': 1,\n",
       "         'Heavenly': 81,\n",
       "         'heavenly': 169,\n",
       "         'girlfriends': 64,\n",
       "         'celebrate': 275,\n",
       "         'th': 3549,\n",
       "         'birthdays': 26,\n",
       "         'planned': 315,\n",
       "         'weekend': 3340,\n",
       "         'getaway': 392,\n",
       "         'back': 9126,\n",
       "         'February': 170,\n",
       "         'looking': 2999,\n",
       "         'forward': 580,\n",
       "         'it': 12647,\n",
       "         'rented': 154,\n",
       "         'ajoining': 13,\n",
       "         'rate': 3306,\n",
       "         'night-room': 1,\n",
       "         'nights': 5958,\n",
       "         'taxes': 288,\n",
       "         'charges': 599,\n",
       "         'spent': 1721,\n",
       "         'total': 418,\n",
       "         'expected': 1575,\n",
       "         'certain': 288,\n",
       "         'level': 1368,\n",
       "         'since': 2696,\n",
       "         'Ritz': 438,\n",
       "         'however': 2179,\n",
       "         'certainly': 1249,\n",
       "         'did': 8023,\n",
       "         \"n't\": 26635,\n",
       "         'meet': 420,\n",
       "         'fine': 2776,\n",
       "         'They': 6679,\n",
       "         'well': 9289,\n",
       "         'appointed': 939,\n",
       "         'excited': 222,\n",
       "         'awful': 434,\n",
       "         'first': 6169,\n",
       "         'night': 15426,\n",
       "         'there': 4802,\n",
       "         'made': 5512,\n",
       "         'calls': 497,\n",
       "         'bell': 541,\n",
       "         'man': 798,\n",
       "         'someone': 1723,\n",
       "         'communications': 12,\n",
       "         'picked': 590,\n",
       "         'phone': 1698,\n",
       "         'Then': 683,\n",
       "         'Saturday': 745,\n",
       "         'left': 3178,\n",
       "         ':': 9254,\n",
       "         'requested': 1168,\n",
       "         'extra': 2432,\n",
       "         'hotels': 6570,\n",
       "         'delivered': 603,\n",
       "         'trash': 253,\n",
       "         'returned': 1470,\n",
       "         'neither': 198,\n",
       "         'request': 1132,\n",
       "         'fullfilled': 3,\n",
       "         'another': 3682,\n",
       "         'call': 2524,\n",
       "         'housekeeping': 1601,\n",
       "         'finally': 908,\n",
       "         'taken': 794,\n",
       "         'care': 1468,\n",
       "         'of': 480,\n",
       "         'In': 2585,\n",
       "         'opinion': 409,\n",
       "         'rates': 935,\n",
       "         'paying': 882,\n",
       "         'nightly': 142,\n",
       "         'turn': 888,\n",
       "         'speak': 438,\n",
       "         'checked': 3214,\n",
       "         'said': 4027,\n",
       "         'make': 4312,\n",
       "         'worth': 2260,\n",
       "         'return': 2384,\n",
       "         'received': 1253,\n",
       "         'letter': 110,\n",
       "         'apology': 248,\n",
       "         'Needless': 188,\n",
       "         'plans': 203,\n",
       "         'Four': 545,\n",
       "         'Seasons': 402,\n",
       "         'Boston': 1701,\n",
       "         'wonderful': 3651,\n",
       "         'impeccable': 169,\n",
       "         'Seaons': 3,\n",
       "         'at': 729,\n",
       "         'If': 5466,\n",
       "         'willing': 453,\n",
       "         'pay': 2604,\n",
       "         'Carlton': 207,\n",
       "         'prices': 1076,\n",
       "         'recommend': 5670,\n",
       "         'instead': 1072,\n",
       "         'One': 1757,\n",
       "         'nice': 17148,\n",
       "         'clearly': 481,\n",
       "         'updated': 690,\n",
       "         'recently': 1419,\n",
       "         'other': 304,\n",
       "         'bed': 10291,\n",
       "         'comfy': 1369,\n",
       "         'needed': 2956,\n",
       "         'updating': 283,\n",
       "         'carpet': 1181,\n",
       "         'wrinkled': 13,\n",
       "         'example': 313,\n",
       "         'Great': 3086,\n",
       "         'visiting': 925,\n",
       "         'Inner': 189,\n",
       "         'Harbor': 340,\n",
       "         'getting': 2090,\n",
       "         'Fells': 32,\n",
       "         'Point': 128,\n",
       "         'Orioles': 23,\n",
       "         'games': 151,\n",
       "         'etc': 3316,\n",
       "         'SuperShuttle': 3,\n",
       "         'BWI': 13,\n",
       "         'worked': 1568,\n",
       "         'ways': 170,\n",
       "         'remotes': 21,\n",
       "         'terrible': 712,\n",
       "         'watch': 732,\n",
       "         'big': 3754,\n",
       "         'Wireless': 83,\n",
       "         'sketchy': 105,\n",
       "         'again': 6050,\n",
       "         'need': 4233,\n",
       "         'really': 9214,\n",
       "         'matter': 532,\n",
       "         'good': 17605,\n",
       "         'morning': 5124,\n",
       "         'town': 1795,\n",
       "         'times': 3483,\n",
       "         'Though': 203,\n",
       "         'fanciest': 16,\n",
       "         'love': 1534,\n",
       "         'fact': 1477,\n",
       "         'miles': 409,\n",
       "         'Fenway': 117,\n",
       "         'accomodating': 499,\n",
       "         'complaint': 1142,\n",
       "         'fan': 662,\n",
       "         'noisy': 1677,\n",
       "         'went': 4928,\n",
       "         'automatically': 110,\n",
       "         'turned': 979,\n",
       "         'tried': 1265,\n",
       "         'possible': 661,\n",
       "         \"'ve\": 3394,\n",
       "         'pricier': 28,\n",
       "         'charged': 1070,\n",
       "         'internet': 3062,\n",
       "         'Will': 543,\n",
       "         'wife': 1905,\n",
       "         '&': 5251,\n",
       "         'glorious': 43,\n",
       "         'SF': 729,\n",
       "         'expensive': 2372,\n",
       "         'found': 4855,\n",
       "         'super': 1211,\n",
       "         'reasonable': 1438,\n",
       "         'By': 351,\n",
       "         'means': 501,\n",
       "         'star': 1783,\n",
       "         'well-appointed': 125,\n",
       "         'quaint': 172,\n",
       "         'charm': 404,\n",
       "         'despite': 598,\n",
       "         'Regardless': 34,\n",
       "         'that': 3217,\n",
       "         'helpful': 8526,\n",
       "         'particularly': 609,\n",
       "         'enjoyed': 2610,\n",
       "         'wine-tasting': 3,\n",
       "         'evenings': 278,\n",
       "         'polite': 883,\n",
       "         'Overall': 2691,\n",
       "         \"'d\": 2608,\n",
       "         'place': 9760,\n",
       "         'singles': 40,\n",
       "         'couples': 242,\n",
       "         'present': 163,\n",
       "         'probably': 1857,\n",
       "         'bigger': 535,\n",
       "         'For': 2057,\n",
       "         'proximity': 495,\n",
       "         'everything': 4436,\n",
       "         'including': 1443,\n",
       "         'marvelous': 51,\n",
       "         'Mexican': 123,\n",
       "         'around': 6701,\n",
       "         'corner': 2272,\n",
       "         'ca': 2155,\n",
       "         'beat': 840,\n",
       "         'magical': 37,\n",
       "         'crashing': 37,\n",
       "         'seeing': 553,\n",
       "         'surroundings': 123,\n",
       "         'hanging': 393,\n",
       "         'families': 553,\n",
       "         'size': 3384,\n",
       "         'boyfriend': 411,\n",
       "         'Fairmont': 292,\n",
       "         'recent': 487,\n",
       "         'trip': 4760,\n",
       "         'San': 3752,\n",
       "         'Francisco': 1444,\n",
       "         'more': 855,\n",
       "         'called': 3434,\n",
       "         'weeks': 606,\n",
       "         'order': 1216,\n",
       "         'cake': 196,\n",
       "         \"'s\": 19639,\n",
       "         'birthday': 785,\n",
       "         'immediately': 940,\n",
       "         'connected': 314,\n",
       "         'directly': 963,\n",
       "         'pastry': 64,\n",
       "         'chef': 108,\n",
       "         'helped': 869,\n",
       "         'design': 584,\n",
       "         'ever': 2834,\n",
       "         'eaten': 108,\n",
       "         'entire': 1243,\n",
       "         'life': 500,\n",
       "         'large': 5127,\n",
       "         'luxurious': 493,\n",
       "         'old-world': 17,\n",
       "         'feel': 3326,\n",
       "         'Most': 401,\n",
       "         'importantly': 139,\n",
       "         'miss': 386,\n",
       "         'Tonga': 17,\n",
       "         'What': 1297,\n",
       "         'fun': 1401,\n",
       "         'Definitely': 341,\n",
       "         'Scorpion': 1,\n",
       "         'Bowl': 46,\n",
       "         '’': 2921,\n",
       "         're': 108,\n",
       "         'they': 857,\n",
       "         'Wonderful': 210,\n",
       "         'definately': 563,\n",
       "         'standard': 1593,\n",
       "         'actually': 1900,\n",
       "         'pretty': 3081,\n",
       "         'quailty': 3,\n",
       "         'buffet': 1537,\n",
       "         'This': 9913,\n",
       "         'heart': 801,\n",
       "         'walking': 4904,\n",
       "         'please': 436,\n",
       "         'Hyatt': 1202,\n",
       "         '...': 11916,\n",
       "         'the': 1492,\n",
       "         'bad': 3126,\n",
       "         'white': 581,\n",
       "         'ginger': 8,\n",
       "         'line': 1703,\n",
       "         'shampoo-conditioner-soap': 2,\n",
       "         'smells': 183,\n",
       "         'horrible': 610,\n",
       "         'Steps': 14,\n",
       "         'Times': 2512,\n",
       "         'Square': 4039,\n",
       "         'short': 2348,\n",
       "         'visit': 2973,\n",
       "         'Me': 122,\n",
       "         'Wife': 32,\n",
       "         'kids': 2168,\n",
       "         'Valentine': 38,\n",
       "         'Really': 427,\n",
       "         'Rivercenter': 16,\n",
       "         'Mall': 402,\n",
       "         'downtown': 3836,\n",
       "         'Antonio': 531,\n",
       "         'within': 3448,\n",
       "         'Downtown': 452,\n",
       "         'SA': 12,\n",
       "         'attractions': 1285,\n",
       "         'Alamo': 186,\n",
       "         'Riverwalk': 441,\n",
       "         'Ripley': 7,\n",
       "         'ETC': 3,\n",
       "         'Service': 955,\n",
       "         'beginning': 264,\n",
       "         'end': 2010,\n",
       "         'definitely': 4489,\n",
       "         'HIGHLY': 58,\n",
       "         'reason': 935,\n",
       "         'Jolly': 15,\n",
       "         'Madison': 283,\n",
       "         'Xmas': 31,\n",
       "         'period': 187,\n",
       "         'main': 1497,\n",
       "         'feature': 303,\n",
       "         'far': 2271,\n",
       "         'tourist': 736,\n",
       "         'Grand': 802,\n",
       "         'Central': 1348,\n",
       "         'Station': 653,\n",
       "         'gets': 492,\n",
       "         'places': 2239,\n",
       "         'cheaper': 604,\n",
       "         'yellow': 166,\n",
       "         'cabs': 249,\n",
       "         'although': 2341,\n",
       "         'give': 1971,\n",
       "         'cab': 1268,\n",
       "         'take': 3944,\n",
       "         'airport': 3286,\n",
       "         'upon': 1172,\n",
       "         'departure': 254,\n",
       "         'limo': 87,\n",
       "         'leave': 1580,\n",
       "         'New': 3668,\n",
       "         'York': 3084,\n",
       "         'inward': 6,\n",
       "         'travel': 1827,\n",
       "         'Got': 275,\n",
       "         'transfer': 133,\n",
       "         'outside': 3224,\n",
       "         'minutes': 4444,\n",
       "         'driving': 421,\n",
       "         'terminals': 70,\n",
       "         'collecting': 16,\n",
       "         'fares': 26,\n",
       "         'arriving': 433,\n",
       "         'original': 301,\n",
       "         'terminal': 247,\n",
       "         'heading': 236,\n",
       "         'Our': 4546,\n",
       "         'top': 2551,\n",
       "         'meant': 394,\n",
       "         'less': 1960,\n",
       "         'traffic': 950,\n",
       "         'street': 5476,\n",
       "         'noise': 4298,\n",
       "         'problems': 1461,\n",
       "         'heater': 204,\n",
       "         'reception': 2222,\n",
       "         'eventually': 216,\n",
       "         'resolved': 164,\n",
       "         'providing': 226,\n",
       "         'portable': 37,\n",
       "         'eat': 2166,\n",
       "         'diners': 64,\n",
       "         'deli': 211,\n",
       "         'close': 5897,\n",
       "         'meals': 396,\n",
       "         'China': 153,\n",
       "         'Town': 406,\n",
       "         'Planet': 10,\n",
       "         'Holywood': 3,\n",
       "         'planning': 460,\n",
       "         'Hollywood': 697,\n",
       "         'negotiate': 25,\n",
       "         'section': 211,\n",
       "         'shown': 138,\n",
       "         'table': 1115,\n",
       "         'otherwise': 460,\n",
       "         'may': 1627,\n",
       "         'like': 10623,\n",
       "         'overlooking': 641,\n",
       "         'action': 319,\n",
       "         'took': 3585,\n",
       "         'part': 2135,\n",
       "         'typical': 764,\n",
       "         'activities': 303,\n",
       "         'Ripleys': 4,\n",
       "         'CSI': 4,\n",
       "         'Experience': 39,\n",
       "         'Disappointed': 21,\n",
       "         'unfortunately': 307,\n",
       "         'Had': 863,\n",
       "         'hoped': 142,\n",
       "         'see': 4280,\n",
       "         'broadway': 96,\n",
       "         'play': 313,\n",
       "         'late': 2407,\n",
       "         'tickts': 1,\n",
       "         'each': 132,\n",
       "         'ant': 8,\n",
       "         'Empire': 666,\n",
       "         'State': 745,\n",
       "         'bilding': 1,\n",
       "         'suggest': 425,\n",
       "         'going': 3934,\n",
       "         'early': 2776,\n",
       "         'queue': 114,\n",
       "         'mid-day': 15,\n",
       "         'least': 1646,\n",
       "         'hour': 2373,\n",
       "         'boat': 119,\n",
       "         'trips': 409,\n",
       "         'Statue': 94,\n",
       "         'Liberty': 189,\n",
       "         'Brooklyn': 118,\n",
       "         'Bridge': 166,\n",
       "         'Make': 171,\n",
       "         'book': 1459,\n",
       "         'Memorial': 179,\n",
       "         'Although': 1000,\n",
       "         'emotional': 7,\n",
       "         'gives': 264,\n",
       "         'true': 519,\n",
       "         'understanding': 125,\n",
       "         'events': 208,\n",
       "         'appreciation': 19,\n",
       "         'spirit': 27,\n",
       "         'Yorkers': 41,\n",
       "         'store': 948,\n",
       "         'window': 1857,\n",
       "         'displays': 16,\n",
       "         'trees': 91,\n",
       "         'skating': 19,\n",
       "         'rings': 37,\n",
       "         'amazing': 2196,\n",
       "         'Eve': 101,\n",
       "         'definetely': 22,\n",
       "         'highlight': 116,\n",
       "         'Hot': 107,\n",
       "         'Chocolate': 22,\n",
       "         'marshmallows': 7,\n",
       "         'whipped': 15,\n",
       "         'cream': 216,\n",
       "         'Do': 1051,\n",
       "         'careful': 162,\n",
       "         'padlock': 1,\n",
       "         'lockers': 12,\n",
       "         'forgot': 348,\n",
       "         'soehow': 1,\n",
       "         'managed': 363,\n",
       "         'gain': 40,\n",
       "         'access': 2500,\n",
       "         'elses': 14,\n",
       "         ';': 4243,\n",
       "         'Stumbling': 1,\n",
       "         'across': 3210,\n",
       "         'whilst': 251,\n",
       "         'taking': 904,\n",
       "         'stroll': 160,\n",
       "         'enlightening': 1,\n",
       "         'literally': 652,\n",
       "         'sudden': 21,\n",
       "         'colour': 28,\n",
       "         'sky': 63,\n",
       "         'bright': 388,\n",
       "         'many': 5025,\n",
       "         'illuminated': 13,\n",
       "         'signs': 272,\n",
       "         'real': 1177,\n",
       "         'buzz': 46,\n",
       "         'time': 11993,\n",
       "         'Did': 515,\n",
       "         'hoards': 5,\n",
       "         'people': 5818,\n",
       "         'though': 4240,\n",
       "         'use': 4351,\n",
       "         'bar': 5189,\n",
       "         'last': 2795,\n",
       "         'resembled': 13,\n",
       "         'chapel': 6,\n",
       "         'surprised': 1156,\n",
       "         'shops': 1256,\n",
       "         'remained': 80,\n",
       "         'open': 2388,\n",
       "         'sleep': 2884,\n",
       "         'regret': 140,\n",
       "         'longer': 656,\n",
       "         'days': 3459,\n",
       "         'always': 4419,\n",
       "         'next': 7362,\n",
       "         'highly': 1598,\n",
       "         'Hawthorne': 9,\n",
       "         'Terrace': 63,\n",
       "         'affordable': 416,\n",
       "         'Chicago': 2117,\n",
       "         'pleasant': 2384,\n",
       "         'spacious': 3143,\n",
       "         'liked': 1239,\n",
       "         'neighborhood': 1113,\n",
       "         'Tons': 26,\n",
       "         'bars': 938,\n",
       "         'restaurants': 4888,\n",
       "         'improv': 2,\n",
       "         'Wrigley': 60,\n",
       "         'Field': 155,\n",
       "         'While': 976,\n",
       "         'provides': 293,\n",
       "         'Continental': 148,\n",
       "         'once': 209,\n",
       "         'Anne': 42,\n",
       "         'Sather': 2,\n",
       "         'offers': 669,\n",
       "         'wireless': 761,\n",
       "         'Internet': 809,\n",
       "         'nicely': 1113,\n",
       "         'located': 3563,\n",
       "         'Good': 1267,\n",
       "         'shuttle': 2238,\n",
       "         'leaves': 153,\n",
       "         'twice': 963,\n",
       "         'are': 629,\n",
       "         'springhill': 2,\n",
       "         'suited': 143,\n",
       "         'walls': 1318,\n",
       "         'thin': 739,\n",
       "         'lot': 3950,\n",
       "         'adjacent': 388,\n",
       "         'Elan': 25,\n",
       "         'October': 324,\n",
       "         'and': 1950,\n",
       "         'Vegas': 161,\n",
       "         'Unassuming': 1,\n",
       "         'appearance': 138,\n",
       "         'scores': 11,\n",
       "         'heavily': 62,\n",
       "         'spotlessly': 174,\n",
       "         'classically': 4,\n",
       "         'designed': 303,\n",
       "         'bedrooms': 134,\n",
       "         'friendliness': 178,\n",
       "         'management': 916,\n",
       "         'Jorge': 5,\n",
       "         'colleagues': 168,\n",
       "         'revelation': 3,\n",
       "         'untiring': 1,\n",
       "         'enthusiastic': 48,\n",
       "         'help': 2292,\n",
       "         'recommending': 143,\n",
       "         'And': 2465,\n",
       "         'letting': 100,\n",
       "         'complimentary': 1796,\n",
       "         'post-check': 2,\n",
       "         'freshen': 56,\n",
       "         'flight': 1283,\n",
       "         'home': 2267,\n",
       "         'long': 3191,\n",
       "         'enjoying': 225,\n",
       "         'Southern': 46,\n",
       "         'Cal': 5,\n",
       "         'sunshine': 27,\n",
       "         'Priceline': 612,\n",
       "         'sent': 745,\n",
       "         'accepting': 12,\n",
       "         'bid': 119,\n",
       "         'USD': 123,\n",
       "         'tax': 410,\n",
       "         'Thanksgiving': 213,\n",
       "         'family': 3086,\n",
       "         'four': 1426,\n",
       "         'year': 2078,\n",
       "         'boys': 248,\n",
       "         'Upon': 860,\n",
       "         'inquiry': 17,\n",
       "         'Time': 349,\n",
       "         'surprise': 704,\n",
       "         'Macy': 304,\n",
       "         'Day': 369,\n",
       "         'Parade': 28,\n",
       "         'comfort': 496,\n",
       "         'wish': 705,\n",
       "         'special': 1744,\n",
       "         'Maybe': 341,\n",
       "         'Year': 126,\n",
       "         'count': 129,\n",
       "         'down': 831,\n",
       "         'Old': 364,\n",
       "         'cheap': 1290,\n",
       "         'furnitures': 13,\n",
       "         'our': 120,\n",
       "         'chair': 795,\n",
       "         'simply': 682,\n",
       "         'destroyed': 15,\n",
       "         'painting': 48,\n",
       "         'wall': 1348,\n",
       "         'Kids': 74,\n",
       "         'running': 657,\n",
       "         'non': 273,\n",
       "         'stop': 1373,\n",
       "         'starting': 278,\n",
       "         '-am': 859,\n",
       "         'shake': 32,\n",
       "         '..I': 23,\n",
       "         'think': 3493,\n",
       "         'so': 796,\n",
       "         'happy': 2119,\n",
       "         'mins': 675,\n",
       "         'fame': 44,\n",
       "         'graumanns': 1,\n",
       "         'chinese': 43,\n",
       "         'theatre': 265,\n",
       "         'tour': 790,\n",
       "         'companie': 1,\n",
       "         'pick': 743,\n",
       "         'routes': 81,\n",
       "         'usual': 594,\n",
       "         'toast': 446,\n",
       "         'cereal': 537,\n",
       "         'pastries': 454,\n",
       "         'cooked': 191,\n",
       "         'centre': 568,\n",
       "         'gym': 1101,\n",
       "         'givin': 3,\n",
       "         'directions': 783,\n",
       "         'minimart': 2,\n",
       "         'subway': 2161,\n",
       "         'starbucks': 104,\n",
       "         'road': 1033,\n",
       "         'convenient': 2533,\n",
       "         'shopping': 2672,\n",
       "         'mall': 650,\n",
       "         'Gap': 4,\n",
       "         'Superdry': 2,\n",
       "         'anyone': 1670,\n",
       "         'likes': 62,\n",
       "         'pizzas': 18,\n",
       "         'California': 271,\n",
       "         'Pizza': 90,\n",
       "         'Kitchen': 114,\n",
       "         'lush': 48,\n",
       "         'rasonably': 1,\n",
       "         'shared': 403,\n",
       "         'bus': 1453,\n",
       "         'Super': 233,\n",
       "         'Shuttle': 162,\n",
       "         'cost': 1459,\n",
       "         'approx': 114,\n",
       "         'ups': 37,\n",
       "         'occur': 21,\n",
       "         'Be': 328,\n",
       "         'warned': 182,\n",
       "         'tho': 74,\n",
       "         'slightly': 619,\n",
       "         'frightening': 25,\n",
       "         'plane': 122,\n",
       "         'didnt': 626,\n",
       "         'car': 4380,\n",
       "         'organised': 54,\n",
       "         'tours': 245,\n",
       "         'VIP': 66,\n",
       "         'Starline': 3,\n",
       "         'Tours': 40,\n",
       "         'LA': 840,\n",
       "         'Venice': 82,\n",
       "         'Beach': 390,\n",
       "         'Beverly': 200,\n",
       "         'HIlls': 2,\n",
       "         'lasted': 39,\n",
       "         'money': 2662,\n",
       "         'escorted': 57,\n",
       "         'Universal': 218,\n",
       "         'Madame': 9,\n",
       "         'Tussauds': 4,\n",
       "         'statues': 10,\n",
       "         'Holiday': 745,\n",
       "         'Inn': 2784,\n",
       "         'Walk': 218,\n",
       "         'Fame': 47,\n",
       "         'extras': 226,\n",
       "         'thrown': 84,\n",
       "         'fell': 229,\n",
       "         'expectations': 774,\n",
       "         'respectable': 12,\n",
       "         'establishment': 191,\n",
       "         'Hilton': 2023,\n",
       "         'nickel-and-diming': 6,\n",
       "         'corridor': 164,\n",
       "         'smelled': 647,\n",
       "         'weird': 230,\n",
       "         'worse': 463,\n",
       "         'barefoot': 47,\n",
       "         'anywhere': 1150,\n",
       "         'dirty': 1564,\n",
       "         'maker': 810,\n",
       "         'broken': 790,\n",
       "         'cup': 332,\n",
       "         'off': 866,\n",
       "         'want': 4631,\n",
       "         'full': 2564,\n",
       "         'ask': 2050,\n",
       "         'almost': 1464,\n",
       "         'cold': 1444,\n",
       "         'luck': 243,\n",
       "         'making': 1286,\n",
       "         'tea': 906,\n",
       "         'Once': 433,\n",
       "         'used': 2727,\n",
       "         'provided': 1554,\n",
       "         'packs': 31,\n",
       "         'bother': 671,\n",
       "         'replace': 140,\n",
       "         'Probably': 136,\n",
       "         'saved': 286,\n",
       "         'cent': 20,\n",
       "         'center': 2234,\n",
       "         'printing': 129,\n",
       "         'various': 412,\n",
       "         'was': 4091,\n",
       "         'dollar-a-minute': 1,\n",
       "         'simple': 496,\n",
       "         'page': 81,\n",
       "         'class': 637,\n",
       "         'visited': 555,\n",
       "         'decided': 1649,\n",
       "         'save': 458,\n",
       "         'yet': 1029,\n",
       "         'provide': 752,\n",
       "         'sort': 566,\n",
       "         'paper': 682,\n",
       "         'guests': 2890,\n",
       "         'write': 415,\n",
       "         'on': 1374,\n",
       "         'post-it': 2,\n",
       "         'notes': 87,\n",
       "         'Literally': 54,\n",
       "         'squares': 11,\n",
       "         'something': 2135,\n",
       "         'words': 172,\n",
       "         'Office': 57,\n",
       "         'Depot': 13,\n",
       "         'buy': 463,\n",
       "         'yourself': 99,\n",
       "         'Here': 197,\n",
       "         'Parking': 969,\n",
       "         'pricing': 77,\n",
       "         'outrageous': 117,\n",
       "         'parked': 448,\n",
       "         'San-Francisco': 2,\n",
       "         'discounts': 52,\n",
       "         'expect': 2227,\n",
       "         'mean': 421,\n",
       "         'easy': 3398,\n",
       "         'crammed': 31,\n",
       "         'spending': 430,\n",
       "         'random': 76,\n",
       "         'somebody': 77,\n",
       "         'notice': 504,\n",
       "         'trying': 1071,\n",
       "         'fit': 522,\n",
       "         'nobody': 155,\n",
       "         'dared': 8,\n",
       "         'routine': 44,\n",
       "         ...})"
      ]
     },
     "execution_count": 140,
     "metadata": {},
     "output_type": "execute_result"
    }
   ],
   "source": [
    "counts"
   ]
  },
  {
   "cell_type": "code",
   "execution_count": 150,
   "metadata": {},
   "outputs": [
    {
     "data": {
      "text/plain": [
       "[(\"''\", 557488),\n",
       " ('.', 351124),\n",
       " (',', 231523),\n",
       " ('I', 108745),\n",
       " ('The', 78953),\n",
       " ('hotel', 65861),\n",
       " ('room', 59022),\n",
       " ('--', 53615),\n",
       " ('-', 52341),\n",
       " ('!', 38512),\n",
       " ('We', 33955),\n",
       " (')', 30224),\n",
       " ('(', 29083),\n",
       " (\"n't\", 26635),\n",
       " ('stay', 25980),\n",
       " ('staff', 22406),\n",
       " ('great', 22230),\n",
       " ('would', 22026),\n",
       " (\"'s\", 19639),\n",
       " ('rooms', 18262)]"
      ]
     },
     "execution_count": 150,
     "metadata": {},
     "output_type": "execute_result"
    }
   ],
   "source": [
    "counts.most_common(20)"
   ]
  },
  {
   "cell_type": "markdown",
   "metadata": {},
   "source": [
    "# We will use counter to eliminate common high frequency words!\n",
    "## Can use a set of positive and negative words set for the training process!\n"
   ]
  },
  {
   "cell_type": "code",
   "execution_count": null,
   "metadata": {
    "collapsed": true
   },
   "outputs": [],
   "source": []
  },
  {
   "cell_type": "code",
   "execution_count": 167,
   "metadata": {
    "collapsed": true
   },
   "outputs": [],
   "source": [
    "inputDF = df['Description']\n",
    "outputDF = df['sentiment']"
   ]
  },
  {
   "cell_type": "code",
   "execution_count": 180,
   "metadata": {
    "collapsed": true
   },
   "outputs": [],
   "source": [
    "stops = set(STOPWORDS)"
   ]
  },
  {
   "cell_type": "code",
   "execution_count": 181,
   "metadata": {},
   "outputs": [],
   "source": [
    "stops.update('.','.',':','I','The',')','(','We','-','--','hotel','room','rooms')"
   ]
  },
  {
   "cell_type": "code",
   "execution_count": 188,
   "metadata": {
    "scrolled": true
   },
   "outputs": [],
   "source": [
    "def clean(data):\n",
    "    #list_words = word_tokenize(data)\n",
    "    words = data\n",
    "    words = ' '.join(word for word in list_words if word in stops)\n",
    "    return words"
   ]
  },
  {
   "cell_type": "code",
   "execution_count": 189,
   "metadata": {},
   "outputs": [
    {
     "data": {
      "text/plain": [
       "\"The room was kind of clean but had a VERY strong smell of dogs. Generally below average but ok for a overnight stay if you're not too fussy. Would consider staying again if the price was right. Breakfast was free and just about better than nothing.\""
      ]
     },
     "execution_count": 189,
     "metadata": {},
     "output_type": "execute_result"
    }
   ],
   "source": [
    "inputDF[0]"
   ]
  },
  {
   "cell_type": "code",
   "execution_count": 190,
   "metadata": {},
   "outputs": [
    {
     "name": "stdout",
     "output_type": "stream",
     "text": [
      "was of but had a of . below but for a if you not too . again if the was . was and just about than .\n"
     ]
    }
   ],
   "source": [
    "print(clean(inputDF[0]))"
   ]
  },
  {
   "cell_type": "code",
   "execution_count": 191,
   "metadata": {
    "collapsed": true
   },
   "outputs": [],
   "source": [
    "inputDF = [clean(inputDF.iloc[i,]) for i in range(inputDF.shape[0])]"
   ]
  },
  {
   "cell_type": "code",
   "execution_count": 198,
   "metadata": {},
   "outputs": [
    {
     "data": {
      "text/plain": [
       "38932"
      ]
     },
     "execution_count": 198,
     "metadata": {},
     "output_type": "execute_result"
    }
   ],
   "source": [
    "len(inputDF)"
   ]
  },
  {
   "cell_type": "code",
   "execution_count": 192,
   "metadata": {},
   "outputs": [
    {
     "data": {
      "text/plain": [
       "\"The room was kind of clean but had a VERY strong smell of dogs. Generally below average but ok for a overnight stay if you're not too fussy. Would consider staying again if the price was right. Breakfast was free and just about better than nothing.\""
      ]
     },
     "execution_count": 192,
     "metadata": {},
     "output_type": "execute_result"
    }
   ],
   "source": [
    "df['Description'][0]"
   ]
  },
  {
   "cell_type": "code",
   "execution_count": 193,
   "metadata": {},
   "outputs": [
    {
     "data": {
      "text/plain": [
       "'was of but had a of . below but for a if you not too . again if the was . was and just about than .'"
      ]
     },
     "execution_count": 193,
     "metadata": {},
     "output_type": "execute_result"
    }
   ],
   "source": [
    "inputDF[0]"
   ]
  },
  {
   "cell_type": "code",
   "execution_count": 199,
   "metadata": {
    "collapsed": true
   },
   "outputs": [],
   "source": [
    "count_vec = CountVectorizer(analyzer = \"word\")\n",
    "count_vec_ngrams = CountVectorizer(analyzer = \"word\", ngram_range = (1,2))\n",
    "train_features = count_vec.fit_transform(inputDF)\n",
    "train_features_grams = count_vec_ngrams.fit_transform(inputDF)"
   ]
  },
  {
   "cell_type": "code",
   "execution_count": 200,
   "metadata": {
    "collapsed": true
   },
   "outputs": [],
   "source": [
    "y_train = df['sentiment']"
   ]
  },
  {
   "cell_type": "code",
   "execution_count": 201,
   "metadata": {},
   "outputs": [
    {
     "data": {
      "text/plain": [
       "MultinomialNB(alpha=1.0, class_prior=None, fit_prior=True)"
      ]
     },
     "execution_count": 201,
     "metadata": {},
     "output_type": "execute_result"
    }
   ],
   "source": [
    "clf = MultinomialNB()\n",
    "clf_grams = MultinomialNB()\n",
    "clf_grams.fit(train_features_grams,y_train)\n",
    "clf.fit(train_features,y_train)\n"
   ]
  },
  {
   "cell_type": "code",
   "execution_count": 202,
   "metadata": {
    "collapsed": true
   },
   "outputs": [],
   "source": [
    "testDF = pd.read_csv('test.csv')"
   ]
  },
  {
   "cell_type": "code",
   "execution_count": 203,
   "metadata": {},
   "outputs": [
    {
     "data": {
      "text/plain": [
       "(29404, 4)"
      ]
     },
     "execution_count": 203,
     "metadata": {},
     "output_type": "execute_result"
    }
   ],
   "source": [
    "testDF.shape"
   ]
  },
  {
   "cell_type": "code",
   "execution_count": 206,
   "metadata": {},
   "outputs": [],
   "source": [
    "testing_df = testDF['Description']"
   ]
  },
  {
   "cell_type": "code",
   "execution_count": 207,
   "metadata": {
    "collapsed": true
   },
   "outputs": [],
   "source": [
    "testing_df = [clean(testing_df.iloc[i,]) for i in range(testing_df.shape[0])]"
   ]
  },
  {
   "cell_type": "code",
   "execution_count": 208,
   "metadata": {
    "collapsed": true
   },
   "outputs": [],
   "source": [
    "test_features = count_vec.transform(testing_df)\n",
    "test_features_grams = count_vec_ngrams.transform(testing_df)"
   ]
  },
  {
   "cell_type": "code",
   "execution_count": 211,
   "metadata": {},
   "outputs": [],
   "source": [
    "prediction = clf.predict(test_features)"
   ]
  },
  {
   "cell_type": "code",
   "execution_count": 216,
   "metadata": {},
   "outputs": [],
   "source": [
    "testDF['Is_Response'] = prediction"
   ]
  },
  {
   "cell_type": "code",
   "execution_count": 218,
   "metadata": {},
   "outputs": [],
   "source": [
    "testDF['Is_Response'] = testDF['Is_Response'].apply(lambda x:'not_happy' if x==0 else 'happy') "
   ]
  },
  {
   "cell_type": "code",
   "execution_count": 221,
   "metadata": {},
   "outputs": [],
   "source": [
    "submissionDF = testDF[['User_ID','Is_Response']]"
   ]
  },
  {
   "cell_type": "code",
   "execution_count": 231,
   "metadata": {},
   "outputs": [],
   "source": [
    "submissionDF.to_csv('submission_1.csv',columns=['User_ID','Is_Response'],index=False)"
   ]
  },
  {
   "cell_type": "code",
   "execution_count": null,
   "metadata": {
    "collapsed": true
   },
   "outputs": [],
   "source": []
  }
 ],
 "metadata": {
  "kernelspec": {
   "display_name": "Python 3",
   "language": "python",
   "name": "python3"
  },
  "language_info": {
   "codemirror_mode": {
    "name": "ipython",
    "version": 3
   },
   "file_extension": ".py",
   "mimetype": "text/x-python",
   "name": "python",
   "nbconvert_exporter": "python",
   "pygments_lexer": "ipython3",
   "version": "3.6.2"
  }
 },
 "nbformat": 4,
 "nbformat_minor": 2
}
